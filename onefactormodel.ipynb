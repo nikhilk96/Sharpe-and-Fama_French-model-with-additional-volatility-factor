{
 "cells": [
  {
   "cell_type": "markdown",
   "metadata": {},
   "source": [
    "### Import Dependencies"
   ]
  },
  {
   "cell_type": "code",
   "execution_count": 5,
   "metadata": {},
   "outputs": [],
   "source": [
    "import pandas as pd\n",
    "import numpy as np\n",
    "import statsmodels.api as sm\n",
    "import time\n",
    "from scipy import stats\n"
   ]
  },
  {
   "cell_type": "markdown",
   "metadata": {},
   "source": [
    "### Load Datasets"
   ]
  },
  {
   "cell_type": "code",
   "execution_count": 6,
   "metadata": {},
   "outputs": [],
   "source": [
    "#Load excess market returns for last 22 years \n",
    "mktreturns = pd.read_csv('ExcessMktReturn.csv')\n",
    "mktreturns = mktreturns.drop('Date', axis = 1)   "
   ]
  },
  {
   "cell_type": "code",
   "execution_count": 7,
   "metadata": {},
   "outputs": [],
   "source": [
    "#Load sector data for last 22 years\n",
    "sectordata = pd.read_csv('SectorData.csv')\n",
    "sectordata = sectordata.drop('Date', axis = 1)\n",
    "sectordata = sectordata.drop('SPY', axis = 1)\n"
   ]
  },
  {
   "cell_type": "code",
   "execution_count": 101,
   "metadata": {},
   "outputs": [
    {
     "name": "stdout",
     "output_type": "stream",
     "text": [
      "   Mkt-RF\n",
      "0    0.00\n",
      "1    1.93\n",
      "2   -0.07\n",
      "3    0.16\n",
      "4    1.14\n",
      "-0.07\n"
     ]
    }
   ],
   "source": [
    "print(mktreturns.head())"
   ]
  },
  {
   "cell_type": "code",
   "execution_count": 9,
   "metadata": {},
   "outputs": [
    {
     "data": {
      "text/html": [
       "<div>\n",
       "<style scoped>\n",
       "    .dataframe tbody tr th:only-of-type {\n",
       "        vertical-align: middle;\n",
       "    }\n",
       "\n",
       "    .dataframe tbody tr th {\n",
       "        vertical-align: top;\n",
       "    }\n",
       "\n",
       "    .dataframe thead th {\n",
       "        text-align: right;\n",
       "    }\n",
       "</style>\n",
       "<table border=\"1\" class=\"dataframe\">\n",
       "  <thead>\n",
       "    <tr style=\"text-align: right;\">\n",
       "      <th></th>\n",
       "      <th>XLB</th>\n",
       "      <th>XLE</th>\n",
       "      <th>XLF</th>\n",
       "      <th>XLI</th>\n",
       "      <th>XLK</th>\n",
       "      <th>XLP</th>\n",
       "      <th>XLU</th>\n",
       "      <th>XLV</th>\n",
       "      <th>XLY</th>\n",
       "    </tr>\n",
       "  </thead>\n",
       "  <tbody>\n",
       "    <tr>\n",
       "      <th>0</th>\n",
       "      <td>12.881685</td>\n",
       "      <td>14.553748</td>\n",
       "      <td>9.563667</td>\n",
       "      <td>15.818636</td>\n",
       "      <td>25.008554</td>\n",
       "      <td>16.396906</td>\n",
       "      <td>14.028990</td>\n",
       "      <td>18.487051</td>\n",
       "      <td>19.692347</td>\n",
       "    </tr>\n",
       "    <tr>\n",
       "      <th>1</th>\n",
       "      <td>13.016976</td>\n",
       "      <td>14.856742</td>\n",
       "      <td>9.704691</td>\n",
       "      <td>16.094658</td>\n",
       "      <td>25.606020</td>\n",
       "      <td>16.793295</td>\n",
       "      <td>13.970206</td>\n",
       "      <td>18.902487</td>\n",
       "      <td>19.776922</td>\n",
       "    </tr>\n",
       "    <tr>\n",
       "      <th>2</th>\n",
       "      <td>13.316548</td>\n",
       "      <td>14.778561</td>\n",
       "      <td>9.768794</td>\n",
       "      <td>16.306993</td>\n",
       "      <td>25.508471</td>\n",
       "      <td>16.764292</td>\n",
       "      <td>14.227410</td>\n",
       "      <td>19.017885</td>\n",
       "      <td>20.139355</td>\n",
       "    </tr>\n",
       "    <tr>\n",
       "      <th>3</th>\n",
       "      <td>13.200579</td>\n",
       "      <td>14.700367</td>\n",
       "      <td>9.640586</td>\n",
       "      <td>16.391918</td>\n",
       "      <td>25.581635</td>\n",
       "      <td>16.667618</td>\n",
       "      <td>14.153929</td>\n",
       "      <td>18.740925</td>\n",
       "      <td>19.958132</td>\n",
       "    </tr>\n",
       "    <tr>\n",
       "      <th>4</th>\n",
       "      <td>13.442181</td>\n",
       "      <td>14.846981</td>\n",
       "      <td>9.743150</td>\n",
       "      <td>16.625483</td>\n",
       "      <td>25.654800</td>\n",
       "      <td>17.034994</td>\n",
       "      <td>14.389091</td>\n",
       "      <td>19.156361</td>\n",
       "      <td>20.393049</td>\n",
       "    </tr>\n",
       "  </tbody>\n",
       "</table>\n",
       "</div>"
      ],
      "text/plain": [
       "         XLB        XLE       XLF        XLI        XLK        XLP        XLU  \\\n",
       "0  12.881685  14.553748  9.563667  15.818636  25.008554  16.396906  14.028990   \n",
       "1  13.016976  14.856742  9.704691  16.094658  25.606020  16.793295  13.970206   \n",
       "2  13.316548  14.778561  9.768794  16.306993  25.508471  16.764292  14.227410   \n",
       "3  13.200579  14.700367  9.640586  16.391918  25.581635  16.667618  14.153929   \n",
       "4  13.442181  14.846981  9.743150  16.625483  25.654800  17.034994  14.389091   \n",
       "\n",
       "         XLV        XLY  \n",
       "0  18.487051  19.692347  \n",
       "1  18.902487  19.776922  \n",
       "2  19.017885  20.139355  \n",
       "3  18.740925  19.958132  \n",
       "4  19.156361  20.393049  "
      ]
     },
     "execution_count": 9,
     "metadata": {},
     "output_type": "execute_result"
    }
   ],
   "source": [
    "sectordata.head()"
   ]
  },
  {
   "cell_type": "code",
   "execution_count": 10,
   "metadata": {},
   "outputs": [],
   "source": [
    "#Converting prices into returns\n",
    "sectorreturns = sectordata.pct_change()"
   ]
  },
  {
   "cell_type": "code",
   "execution_count": 11,
   "metadata": {
    "scrolled": true
   },
   "outputs": [
    {
     "data": {
      "text/html": [
       "<div>\n",
       "<style scoped>\n",
       "    .dataframe tbody tr th:only-of-type {\n",
       "        vertical-align: middle;\n",
       "    }\n",
       "\n",
       "    .dataframe tbody tr th {\n",
       "        vertical-align: top;\n",
       "    }\n",
       "\n",
       "    .dataframe thead th {\n",
       "        text-align: right;\n",
       "    }\n",
       "</style>\n",
       "<table border=\"1\" class=\"dataframe\">\n",
       "  <thead>\n",
       "    <tr style=\"text-align: right;\">\n",
       "      <th></th>\n",
       "      <th>XLB</th>\n",
       "      <th>XLE</th>\n",
       "      <th>XLF</th>\n",
       "      <th>XLI</th>\n",
       "      <th>XLK</th>\n",
       "      <th>XLP</th>\n",
       "      <th>XLU</th>\n",
       "      <th>XLV</th>\n",
       "      <th>XLY</th>\n",
       "    </tr>\n",
       "  </thead>\n",
       "  <tbody>\n",
       "    <tr>\n",
       "      <th>0</th>\n",
       "      <td>NaN</td>\n",
       "      <td>NaN</td>\n",
       "      <td>NaN</td>\n",
       "      <td>NaN</td>\n",
       "      <td>NaN</td>\n",
       "      <td>NaN</td>\n",
       "      <td>NaN</td>\n",
       "      <td>NaN</td>\n",
       "      <td>NaN</td>\n",
       "    </tr>\n",
       "    <tr>\n",
       "      <th>1</th>\n",
       "      <td>0.010503</td>\n",
       "      <td>0.020819</td>\n",
       "      <td>0.014746</td>\n",
       "      <td>0.017449</td>\n",
       "      <td>0.023890</td>\n",
       "      <td>0.024175</td>\n",
       "      <td>-0.004190</td>\n",
       "      <td>0.022472</td>\n",
       "      <td>0.004295</td>\n",
       "    </tr>\n",
       "    <tr>\n",
       "      <th>2</th>\n",
       "      <td>0.023014</td>\n",
       "      <td>-0.005262</td>\n",
       "      <td>0.006605</td>\n",
       "      <td>0.013193</td>\n",
       "      <td>-0.003810</td>\n",
       "      <td>-0.001727</td>\n",
       "      <td>0.018411</td>\n",
       "      <td>0.006105</td>\n",
       "      <td>0.018326</td>\n",
       "    </tr>\n",
       "    <tr>\n",
       "      <th>3</th>\n",
       "      <td>-0.008709</td>\n",
       "      <td>-0.005291</td>\n",
       "      <td>-0.013124</td>\n",
       "      <td>0.005208</td>\n",
       "      <td>0.002868</td>\n",
       "      <td>-0.005767</td>\n",
       "      <td>-0.005165</td>\n",
       "      <td>-0.014563</td>\n",
       "      <td>-0.008998</td>\n",
       "    </tr>\n",
       "    <tr>\n",
       "      <th>4</th>\n",
       "      <td>0.018302</td>\n",
       "      <td>0.009973</td>\n",
       "      <td>0.010639</td>\n",
       "      <td>0.014249</td>\n",
       "      <td>0.002860</td>\n",
       "      <td>0.022041</td>\n",
       "      <td>0.016615</td>\n",
       "      <td>0.022167</td>\n",
       "      <td>0.021791</td>\n",
       "    </tr>\n",
       "  </tbody>\n",
       "</table>\n",
       "</div>"
      ],
      "text/plain": [
       "        XLB       XLE       XLF       XLI       XLK       XLP       XLU  \\\n",
       "0       NaN       NaN       NaN       NaN       NaN       NaN       NaN   \n",
       "1  0.010503  0.020819  0.014746  0.017449  0.023890  0.024175 -0.004190   \n",
       "2  0.023014 -0.005262  0.006605  0.013193 -0.003810 -0.001727  0.018411   \n",
       "3 -0.008709 -0.005291 -0.013124  0.005208  0.002868 -0.005767 -0.005165   \n",
       "4  0.018302  0.009973  0.010639  0.014249  0.002860  0.022041  0.016615   \n",
       "\n",
       "        XLV       XLY  \n",
       "0       NaN       NaN  \n",
       "1  0.022472  0.004295  \n",
       "2  0.006105  0.018326  \n",
       "3 -0.014563 -0.008998  \n",
       "4  0.022167  0.021791  "
      ]
     },
     "execution_count": 11,
     "metadata": {},
     "output_type": "execute_result"
    }
   ],
   "source": [
    "sectorreturns.head()"
   ]
  },
  {
   "cell_type": "code",
   "execution_count": 102,
   "metadata": {},
   "outputs": [],
   "source": [
    "#Function to get betas for each sector \n",
    "\n",
    "betalist = []\n",
    "length = len(sectorreturns)\n",
    "betadf = pd.DataFrame()\n",
    "def findbetas(sector):\n",
    "    betalist = []\n",
    "    for i in range(length - 500):\n",
    "        X = mktreturns[i:i+500]\n",
    "        Y = sectorreturns[sector][i:i+500]\n",
    "        result = sm.OLS(Y,X).fit()\n",
    "        beta = result.params[0].round(3)\n",
    "        beta = beta * mktreturns.iloc[i+501]['Mkt-RF']\n",
    "        betalist.append(beta)\n",
    "        \n",
    "    betadf[sector] = betalist\n",
    "    \n",
    "    return betadf\n",
    "        \n",
    "        \n",
    "    "
   ]
  },
  {
   "cell_type": "code",
   "execution_count": 103,
   "metadata": {},
   "outputs": [],
   "source": [
    "#Run function for each sector \n",
    "xlbbeta = findbetas('XLB')\n",
    "xlebeta = findbetas('XLE')\n",
    "xlfbeta = findbetas('XLF')\n",
    "xlibeta = findbetas('XLI')\n",
    "xlkbeta = findbetas('XLK')\n",
    "xlpbeta = findbetas('XLP')\n",
    "xlubeta = findbetas('XLU')\n",
    "xlvbeta = findbetas('XLV')\n",
    "xlybeta = findbetas('XLY')\n"
   ]
  },
  {
   "cell_type": "code",
   "execution_count": 104,
   "metadata": {},
   "outputs": [],
   "source": [
    "expreturns = xlybeta.copy()"
   ]
  },
  {
   "cell_type": "code",
   "execution_count": 105,
   "metadata": {},
   "outputs": [
    {
     "name": "stdout",
     "output_type": "stream",
     "text": [
      "       XLB      XLE      XLF      XLI      XLK      XLP      XLU      XLV  \\\n",
      "0      NaN      NaN      NaN      NaN      NaN      NaN      NaN      NaN   \n",
      "1  0.00180  0.00120  0.00600  0.00420  0.00900  0.00240  0.00180  0.00480   \n",
      "2 -0.00489 -0.00326 -0.01467 -0.01141 -0.02445 -0.00652 -0.00489 -0.01304   \n",
      "3 -0.01077 -0.00718 -0.03590 -0.02513 -0.05385 -0.01436 -0.01077 -0.02872   \n",
      "4  0.00162  0.00108  0.00540  0.00378  0.00810  0.00216  0.00162  0.00432   \n",
      "\n",
      "       XLY  \n",
      "0      NaN  \n",
      "1  0.00480  \n",
      "2 -0.01304  \n",
      "3 -0.02872  \n",
      "4  0.00432  \n"
     ]
    }
   ],
   "source": [
    "print(expreturns.head())"
   ]
  },
  {
   "cell_type": "code",
   "execution_count": 129,
   "metadata": {},
   "outputs": [],
   "source": [
    "#Find total sum of squares\n",
    "difference = (sectorreturns[:length - 500].subtract(expreturns))\n",
    "TSS = (difference.pow(2)).sum(axis = 0)"
   ]
  },
  {
   "cell_type": "code",
   "execution_count": 130,
   "metadata": {
    "scrolled": true
   },
   "outputs": [
    {
     "name": "stdout",
     "output_type": "stream",
     "text": [
      "XLB    1.904538\n",
      "XLE    2.252979\n",
      "XLF    3.052615\n",
      "XLI    1.557271\n",
      "XLK    2.312815\n",
      "XLP    0.639619\n",
      "XLU    0.955233\n",
      "XLV    1.042224\n",
      "XLY    1.662836\n",
      "dtype: float64\n"
     ]
    }
   ],
   "source": [
    "print(TSS)"
   ]
  },
  {
   "cell_type": "code",
   "execution_count": 131,
   "metadata": {},
   "outputs": [
    {
     "name": "stdout",
     "output_type": "stream",
     "text": [
      "XLB    1.264724\n",
      "XLE    1.669682\n",
      "XLF    2.016815\n",
      "XLI    0.991338\n",
      "XLK    1.445975\n",
      "XLP    0.517829\n",
      "XLU    0.801708\n",
      "XLV    0.722534\n",
      "XLY    1.062803\n",
      "dtype: float64\n"
     ]
    }
   ],
   "source": [
    "#Find residual sum of squares\n",
    "difference = (sectorreturns.subtract(sectorreturns.mean(axis=0)))\n",
    "RSS = (difference.pow(2)).sum(axis = 0)\n",
    "print(RSS)"
   ]
  },
  {
   "cell_type": "code",
   "execution_count": 132,
   "metadata": {
    "scrolled": false
   },
   "outputs": [
    {
     "name": "stdout",
     "output_type": "stream",
     "text": [
      "XLB    0.335942\n",
      "XLE    0.258900\n",
      "XLF    0.339316\n",
      "XLI    0.363413\n",
      "XLK    0.374799\n",
      "XLP    0.190410\n",
      "XLU    0.160720\n",
      "XLV    0.306738\n",
      "XLY    0.360849\n",
      "dtype: float64\n"
     ]
    }
   ],
   "source": [
    "#Find rsquared \n",
    "rsq = 1 - (RSS.divide(TSS, axis = 0))\n",
    "print(rsq)"
   ]
  },
  {
   "cell_type": "code",
   "execution_count": null,
   "metadata": {},
   "outputs": [],
   "source": []
  }
 ],
 "metadata": {
  "kernelspec": {
   "display_name": "Python 3",
   "language": "python",
   "name": "python3"
  },
  "language_info": {
   "codemirror_mode": {
    "name": "ipython",
    "version": 3
   },
   "file_extension": ".py",
   "mimetype": "text/x-python",
   "name": "python",
   "nbconvert_exporter": "python",
   "pygments_lexer": "ipython3",
   "version": "3.7.4"
  }
 },
 "nbformat": 4,
 "nbformat_minor": 2
}
